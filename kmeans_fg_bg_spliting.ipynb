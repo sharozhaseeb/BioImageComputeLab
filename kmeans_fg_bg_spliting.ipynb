{
 "cells": [
  {
   "cell_type": "code",
   "execution_count": 13,
   "metadata": {},
   "outputs": [
    {
     "name": "stderr",
     "output_type": "stream",
     "text": [
      "/snap/core20/current/lib/x86_64-linux-gnu/libstdc++.so.6: version `GLIBCXX_3.4.29' not found (required by /lib/x86_64-linux-gnu/libproxy.so.1)\n",
      "Failed to load module: /home/sharoz/snap/code/common/.cache/gio-modules/libgiolibproxy.so\n",
      "eog: symbol lookup error: /snap/core20/current/lib/x86_64-linux-gnu/libpthread.so.0: undefined symbol: __libc_pthread_init, version GLIBC_PRIVATE\n",
      "/snap/core20/current/lib/x86_64-linux-gnu/libstdc++.so.6: version `GLIBCXX_3.4.29' not found (required by /lib/x86_64-linux-gnu/libproxy.so.1)\n",
      "Failed to load module: /home/sharoz/snap/code/common/.cache/gio-modules/libgiolibproxy.so\n",
      "eog: symbol lookup error: /snap/core20/current/lib/x86_64-linux-gnu/libpthread.so.0: undefined symbol: __libc_pthread_init, version GLIBC_PRIVATE\n",
      "/snap/core20/current/lib/x86_64-linux-gnu/libstdc++.so.6: version `GLIBCXX_3.4.29' not found (required by /lib/x86_64-linux-gnu/libproxy.so.1)\n",
      "Failed to load module: /home/sharoz/snap/code/common/.cache/gio-modules/libgiolibproxy.so\n"
     ]
    },
    {
     "name": "stderr",
     "output_type": "stream",
     "text": [
      "eog: symbol lookup error: /snap/core20/current/lib/x86_64-linux-gnu/libpthread.so.0: undefined symbol: __libc_pthread_init, version GLIBC_PRIVATE\n"
     ]
    }
   ],
   "source": [
    "from PIL import Image\n",
    "import numpy as np\n",
    "import random\n",
    "\n",
    "def load_image(image_path):\n",
    "    return Image.open(image_path)\n",
    "\n",
    "def preprocess_image(image):\n",
    "    return np.array(image)\n",
    "\n",
    "def initialize_centroids(image_array):\n",
    "    height, width, _ = image_array.shape\n",
    "    centroid1 = image_array[random.randint(0, height-1), random.randint(0, width-1)]\n",
    "    centroid2 = image_array[random.randint(0, height-1), random.randint(0, width-1)]\n",
    "    return centroid1, centroid2\n",
    "\n",
    "def calculate_distance(pixel, centroid):\n",
    "    return np.sqrt(np.sum((pixel - centroid) ** 2))\n",
    "\n",
    "def assign_pixels_to_clusters(image_array, centroid1, centroid2):\n",
    "    clusters = np.zeros(image_array.shape[:2])\n",
    "    for i in range(image_array.shape[0]):\n",
    "        for j in range(image_array.shape[1]):\n",
    "            if calculate_distance(image_array[i, j], centroid1) < calculate_distance(image_array[i, j], centroid2):\n",
    "                clusters[i, j] = 0\n",
    "            else:\n",
    "                clusters[i, j] = 1\n",
    "    return clusters\n",
    "\n",
    "def update_centroids(image_array, clusters):\n",
    "    cluster1 = image_array[clusters == 0]\n",
    "    cluster2 = image_array[clusters == 1]\n",
    "    centroid1 = np.mean(cluster1, axis=0)\n",
    "    centroid2 = np.mean(cluster2, axis=0)\n",
    "    return centroid1, centroid2\n",
    "\n",
    "def k_means_clustering(image_path):\n",
    "    image = load_image(image_path)\n",
    "    image_array = preprocess_image(image)\n",
    "    centroid1, centroid2 = initialize_centroids(image_array)\n",
    "    while True:\n",
    "        clusters = assign_pixels_to_clusters(image_array, centroid1, centroid2)\n",
    "        new_centroid1, new_centroid2 = update_centroids(image_array, clusters)\n",
    "        if np.all(centroid1 == new_centroid1) and np.all(centroid2 == new_centroid2):\n",
    "            break\n",
    "        centroid1, centroid2 = new_centroid1, new_centroid2\n",
    "    return clusters\n",
    "\n",
    "def postprocess_image(clusters):\n",
    "    return Image.fromarray((clusters * 255).astype(np.uint8))\n",
    "\n",
    "def display_image(image):\n",
    "    image.show()\n",
    "\n"
   ]
  },
  {
   "cell_type": "code",
   "execution_count": 17,
   "metadata": {},
   "outputs": [
    {
     "name": "stderr",
     "output_type": "stream",
     "text": [
      "/snap/core20/current/lib/x86_64-linux-gnu/libstdc++.so.6: version `GLIBCXX_3.4.29' not found (required by /lib/x86_64-linux-gnu/libproxy.so.1)\n",
      "Failed to load module: /home/sharoz/snap/code/common/.cache/gio-modules/libgiolibproxy.so\n"
     ]
    },
    {
     "name": "stderr",
     "output_type": "stream",
     "text": [
      "eog: symbol lookup error: /snap/core20/current/lib/x86_64-linux-gnu/libpthread.so.0: undefined symbol: __libc_pthread_init, version GLIBC_PRIVATE\n"
     ]
    }
   ],
   "source": [
    "# image_paths = ['medical images/MRI_of_Human_Brain.jpg', 'medical images/brain_tumor.jpg', 'medical images/spine_xray.jpg', 'medical images/skull_xray.jpeg']\n",
    "image_paths = [\"medical images/lungs_xray.jpeg\"]\n",
    "for image_path in image_paths:\n",
    "    clusters = k_means_clustering(image_path)\n",
    "    segmented_image = postprocess_image(clusters)\n",
    "    display_image(segmented_image)\n",
    "    base_name_ext = image_path.split(\"/\")[-1]\n",
    "    base_name = base_name_ext.split(\".\")[0]\n",
    "    segmented_image.save(f\"segmented_images/{base_name}_segmented.png\")"
   ]
  },
  {
   "cell_type": "code",
   "execution_count": null,
   "metadata": {},
   "outputs": [],
   "source": []
  }
 ],
 "metadata": {
  "kernelspec": {
   "display_name": "base",
   "language": "python",
   "name": "python3"
  },
  "language_info": {
   "codemirror_mode": {
    "name": "ipython",
    "version": 3
   },
   "file_extension": ".py",
   "mimetype": "text/x-python",
   "name": "python",
   "nbconvert_exporter": "python",
   "pygments_lexer": "ipython3",
   "version": "3.9.12"
  },
  "orig_nbformat": 4
 },
 "nbformat": 4,
 "nbformat_minor": 2
}
