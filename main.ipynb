{
 "cells": [
  {
   "cell_type": "code",
   "execution_count": 1,
   "metadata": {},
   "outputs": [],
   "source": [
    "import cv2\n",
    "import numpy as np\n",
    "import random\n",
    "import matplotlib.pyplot as plt\n",
    "from PIL import Image\n",
    "\n",
    "class MedicalImageProcessor:\n",
    "    def __init__(self, output_path):\n",
    "        # self.image = cv2.imread(image_path)\n",
    "        self.output_path = output_path\n",
    "\n",
    "    # RGB to Grey Scale\n",
    "    def rgb_to_gray(self, image_path):\n",
    "        image = cv2.imread(image_path)\n",
    "        image = cv2.cvtColor(image, cv2.COLOR_BGR2GRAY)\n",
    "        output_path = f'{self.output_path}/gray_scale.jpg'\n",
    "        cv2.imwrite(output_path, image)\n",
    "\n",
    "        return image\n",
    "\n",
    "\n",
    "    # Rotation (-45, 45, 90, 180, 270)\n",
    "    def rotate(self, image_path, angle):\n",
    "        image = cv2.imread(image_path)\n",
    "        if len(image.shape) == 3:\n",
    "            shape_tuple = image.shape\n",
    "            rows, cols = shape_tuple[0], shape_tuple[1]\n",
    "            rotation_matrix = cv2.getRotationMatrix2D((cols / 2, rows / 2), angle, 1)\n",
    "            image = cv2.warpAffine(image, rotation_matrix, (cols, rows))\n",
    "\n",
    "            cv2.imwrite(f'{self.output_path}/rotated_{str(angle)}.jpg', image)\n",
    "            return image\n",
    "    \n",
    "    # Flip (Vertical + Horizontal)\n",
    "    def flip(self, image_path, vertical=True, horizontal=True):\n",
    "        image = cv2.imread(image_path)\n",
    "        if vertical:\n",
    "            image = cv2.flip(image, 0)\n",
    "\n",
    "            output_path = f\"{self.output_path}/flipped_vertical.jpg\"\n",
    "            cv2.imwrite(output_path, image)\n",
    "            return output_path\n",
    "        \n",
    "        if horizontal:\n",
    "            image = cv2.flip(image, 1)\n",
    "            output_path = f\"{self.output_path}/flipped_horizontal.jpg\"\n",
    "            cv2.imwrite(output_path, image)\n",
    "            return output_path\n",
    "\n",
    "    # Cropping\n",
    "    def crop(self, image_path, x, y, width, height):\n",
    "        \n",
    "        image = cv2.imread(image_path)\n",
    "        image = image[y:y+height, x:x+width]\n",
    "        output_path = f\"{self.output_path}/crop_{x}_{y}_{width}_{height}.jpg\"\n",
    "        cv2.imwrite(output_path, image)\n",
    "        return output_path\n",
    "\n",
    "\n",
    "    # Gaussian Noise is a statistical noise with a Gaussian (normal) distribution\n",
    "    def add_gaussian_noise(self, image_path, mean=0, std=25):\n",
    "\n",
    "        image = cv2.imread(image_path)\n",
    "        noise = np.random.normal(mean, std, image.shape).astype(np.uint8)\n",
    "        image = cv2.add(image, noise)\n",
    "\n",
    "        output_path = f\"{self.output_path}/g_noise_{mean}_{std}.jpg\"\n",
    "        cv2.imwrite(output_path, image)\n",
    "        return output_path\n",
    "\n",
    "    # Shear is a geometric augmentation that changes a form of an image along a specific axis to create a different perception angle   \n",
    "    def shear(self,image_path, shear_x=0, shear_y=0):\n",
    "        image = cv2.imread(image_path)\n",
    "        shear_matrix = np.float32([[1, shear_x, 0], [shear_y, 1, 0]])\n",
    "        image = cv2.warpAffine(image, shear_matrix, (image.shape[1], image.shape[0]))\n",
    "\n",
    "        output_path = f\"{self.output_path}/shear_{shear_x}_{shear_y}.jpg\"\n",
    "        cv2.imwrite(output_path, image)\n",
    "        return output_path\n",
    "\n",
    "\n",
    "    # Change in Image Contrast\n",
    "    def adjust_contrast(self, image_path, alpha=1.5, beta=0):\n",
    "\n",
    "        image = cv2.imread(image_path)\n",
    "        image = cv2.convertScaleAbs(image, alpha=alpha, beta=beta)\n",
    "\n",
    "        output_path = f\"{self.output_path}/contrast_{alpha}_{beta}.jpg\"\n",
    "        cv2.imwrite(output_path, image)\n",
    "        return output_path\n",
    "\n",
    "    # Scaling\n",
    "    def scale(self, image_path, scale_factor):\n",
    "        image = cv2.imread(image_path)\n",
    "        image = cv2.resize(image, None, fx=scale_factor, fy=scale_factor, interpolation=cv2.INTER_LINEAR)\n",
    "        output_path = f\"{self.output_path}/scale_{scale_factor}.jpg\"\n",
    "        cv2.imwrite(output_path, image)\n",
    "        return output_path\n",
    "\n",
    "    # Channel Shuffling\n",
    "    def channel_shuffle(self, image_path):\n",
    "        image = cv2.imread(image_path)\n",
    "        channels = cv2.split(image)\n",
    "        random.shuffle(list(channels))\n",
    "        image = cv2.merge(channels)\n",
    "        output_path = f\"{self.output_path}/channel_shuffle.jpg\"\n",
    "        cv2.imwrite(output_path, image)\n",
    "        return output_path\n",
    "\n",
    "\n",
    "    def heatmap(self, image_path, type):\n",
    "\n",
    "        img = Image.open(image_path)\n",
    "        data = np.array(img)\n",
    "        # Creating a plot with blue as a color\n",
    "        plt.imshow(data, cmap = type)\n",
    "        plt.savefig(f\"{self.output_dir}/heatmap_{type}.jpg\")\n"
   ]
  },
  {
   "cell_type": "code",
   "execution_count": 2,
   "metadata": {},
   "outputs": [],
   "source": [
    "image_path = 'medical images/brain_tumor.jpg'\n",
    "output_dir = \"output_dir\"\n",
    "# transformations = ['rgb_to_gray', 'rotate_45', 'rotate_-45', 'rotate_90', 'rotate_180', 'rotate_270', 'flip', 'crop', 'add_gaussian_noise', 'shear_45', 'shear_-45', 'adjust_contrast', 'scale', 'channel_shuffle', 'heatmap_to_grayscale']\n",
    "\n",
    "instance = MedicalImageProcessor(output_path= output_dir)\n",
    "\n",
    "# instance_gray = instance.rgb_to_gray(image_path)"
   ]
  },
  {
   "cell_type": "code",
   "execution_count": 36,
   "metadata": {},
   "outputs": [],
   "source": [
    "image_path = \"output_dir/gray_scale.jpg\"\n",
    "# instance_rotated = instance.rotate(image_path = image_path, angle = 270)"
   ]
  },
  {
   "cell_type": "code",
   "execution_count": 4,
   "metadata": {},
   "outputs": [],
   "source": [
    "# instance_flipped = instance.flip(image_path= image_path, vertical=True, horizontal=False)"
   ]
  },
  {
   "cell_type": "code",
   "execution_count": 5,
   "metadata": {},
   "outputs": [],
   "source": [
    "# # x, y, width, height = random.randint(0, 100), random.randint(0, 100), random.randint(100, 200), random.randint(100, 200)\n",
    "# instance_cropped = instance.crop(image_path= image_path, x= 300, y=1000, width=70, height=750)"
   ]
  },
  {
   "cell_type": "code",
   "execution_count": 6,
   "metadata": {},
   "outputs": [],
   "source": [
    "# instance_g_noise = instance.add_gaussian_noise(image_path= image_path, mean = 25, std=25)"
   ]
  },
  {
   "cell_type": "code",
   "execution_count": 39,
   "metadata": {},
   "outputs": [],
   "source": [
    "# instance_shear = instance.shear(image_path=image_path, shear_x=-0.25, shear_y=-0.25)"
   ]
  },
  {
   "cell_type": "code",
   "execution_count": 8,
   "metadata": {},
   "outputs": [],
   "source": [
    "# instance_constrast = instance.adjust_contrast(image_path=image_path, alpha=1.5, beta=0)"
   ]
  },
  {
   "cell_type": "code",
   "execution_count": 9,
   "metadata": {},
   "outputs": [],
   "source": [
    "# instance_scale = instance.scale(image_path= image_path, scale_factor= 0.25)"
   ]
  },
  {
   "cell_type": "code",
   "execution_count": 40,
   "metadata": {},
   "outputs": [],
   "source": [
    "instance_scale = instance.channel_shuffle(image_path= image_path)"
   ]
  },
  {
   "cell_type": "code",
   "execution_count": 11,
   "metadata": {},
   "outputs": [],
   "source": [
    "# instance_heatmap = instance.heatmap_to_grayscale(image_path=image_path)"
   ]
  },
  {
   "cell_type": "code",
   "execution_count": null,
   "metadata": {},
   "outputs": [],
   "source": []
  }
 ],
 "metadata": {
  "kernelspec": {
   "display_name": "base",
   "language": "python",
   "name": "python3"
  },
  "language_info": {
   "codemirror_mode": {
    "name": "ipython",
    "version": 3
   },
   "file_extension": ".py",
   "mimetype": "text/x-python",
   "name": "python",
   "nbconvert_exporter": "python",
   "pygments_lexer": "ipython3",
   "version": "3.9.12"
  },
  "orig_nbformat": 4
 },
 "nbformat": 4,
 "nbformat_minor": 2
}
